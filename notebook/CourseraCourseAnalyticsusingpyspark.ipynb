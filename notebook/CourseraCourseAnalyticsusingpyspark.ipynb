{
 "cells": [
  {
   "cell_type": "code",
   "execution_count": 28,
   "id": "1984cafb-485b-476e-bc44-192061e0c2d8",
   "metadata": {},
   "outputs": [],
   "source": [
    "# import modules\n",
    "from pyspark.sql import SparkSession\n",
    "from pyspark.sql.functions import col, sum"
   ]
  },
  {
   "cell_type": "code",
   "execution_count": 15,
   "id": "a99cc9d4-7c3d-4778-aeb1-d6797cdc2d7b",
   "metadata": {},
   "outputs": [
    {
     "name": "stderr",
     "output_type": "stream",
     "text": [
      "24/02/16 15:19:11 WARN Utils: Your hostname, paulet-HP-EliteBook-Folio-9470m resolves to a loopback address: 127.0.1.1; using 192.168.1.189 instead (on interface wlo1)\n",
      "24/02/16 15:19:11 WARN Utils: Set SPARK_LOCAL_IP if you need to bind to another address\n",
      "Setting default log level to \"WARN\".\n",
      "To adjust logging level use sc.setLogLevel(newLevel). For SparkR, use setLogLevel(newLevel).\n",
      "24/02/16 15:19:14 WARN NativeCodeLoader: Unable to load native-hadoop library for your platform... using builtin-java classes where applicable\n"
     ]
    }
   ],
   "source": [
    "spark = SparkSession.builder \\\n",
    "    .appName(\"CourseraCourseAnalytics\") \\\n",
    "    .getOrCreate()\n"
   ]
  },
  {
   "cell_type": "code",
   "execution_count": 19,
   "id": "689ee2b5-1967-4a03-bcac-41378d872749",
   "metadata": {},
   "outputs": [
    {
     "name": "stderr",
     "output_type": "stream",
     "text": [
      "                                                                                \r"
     ]
    }
   ],
   "source": [
    "# load dataset\n",
    "df = spark.read.csv(\"CourseraDataset-Unclean.csv\", header=True, inferSchema=True)"
   ]
  },
  {
   "cell_type": "code",
   "execution_count": 20,
   "id": "c28468ae-b1ad-4f39-975a-59775c5441a8",
   "metadata": {},
   "outputs": [
    {
     "name": "stdout",
     "output_type": "stream",
     "text": [
      "root\n",
      " |-- Course Title: string (nullable = true)\n",
      " |-- Rating: string (nullable = true)\n",
      " |-- Level: string (nullable = true)\n",
      " |-- Duration: string (nullable = true)\n",
      " |-- Schedule: string (nullable = true)\n",
      " |-- Review: string (nullable = true)\n",
      " |-- What you will learn: string (nullable = true)\n",
      " |-- Skill gain: string (nullable = true)\n",
      " |-- Modules: string (nullable = true)\n",
      " |-- Instructor: string (nullable = true)\n",
      " |-- Offered By: string (nullable = true)\n",
      " |-- Keyword: string (nullable = true)\n",
      " |-- Course Url: string (nullable = true)\n",
      "\n"
     ]
    }
   ],
   "source": [
    "# show schema\n",
    "df.printSchema()"
   ]
  },
  {
   "cell_type": "code",
   "execution_count": 25,
   "id": "beadd453-a114-4bdf-a66e-3cf2761e646f",
   "metadata": {},
   "outputs": [
    {
     "name": "stdout",
     "output_type": "stream",
     "text": [
      "+--------------------+------+--------------+--------------------+-----------------+-------------+--------------------+--------------------+--------------------+--------------------+--------------------+-------------------+--------------------+\n",
      "|        Course Title|Rating|         Level|            Duration|         Schedule|       Review| What you will learn|          Skill gain|             Modules|          Instructor|          Offered By|            Keyword|          Course Url|\n",
      "+--------------------+------+--------------+--------------------+-----------------+-------------+--------------------+--------------------+--------------------+--------------------+--------------------+-------------------+--------------------+\n",
      "|   Fashion as Design|   4.8|Beginner level|20 hours (approxi...|Flexible schedule|2,813 reviews|                null|['Art History', '...|['Introduction', ...|['Anna Burckhardt...|['The Museum of M...|Arts and Humanities|https://www.cours...|\n",
      "|Modern American P...|   4.4|Beginner level|Approx. 34 hours ...|Flexible schedule|  100 reviews|                null|                  []|['Orientation', '...|     ['Cary Nelson']|['University of I...|Arts and Humanities|https://www.cours...|\n",
      "|Pixel Art for Vid...|   4.5|Beginner level|9 hours (approxim...|Flexible schedule|  227 reviews|                null|                  []|['Week 1: Introdu...|['Andrew Dennis',...|['Michigan State ...|Arts and Humanities|https://www.cours...|\n",
      "|Distribución digi...|  null|Beginner level|Approx. 8 hours t...|Flexible schedule|         null|                null|                  []|['Semana 1', 'Sem...|['Eduardo de la V...|['SAE Institute M...|Arts and Humanities|https://www.cours...|\n",
      "|The Blues: Unders...|   4.8|Beginner level|Approx. 11 hours ...|Flexible schedule|  582 reviews|Students will be ...|['Music', 'Chord'...|['Blues Progressi...|['Dariusz Terefen...|['University of R...|Arts and Humanities|https://www.cours...|\n",
      "+--------------------+------+--------------+--------------------+-----------------+-------------+--------------------+--------------------+--------------------+--------------------+--------------------+-------------------+--------------------+\n",
      "only showing top 5 rows\n",
      "\n"
     ]
    }
   ],
   "source": [
    "# display first few rows\n",
    "df.show(5)"
   ]
  },
  {
   "cell_type": "code",
   "execution_count": 24,
   "id": "71f35e7b-29e3-4a26-8248-672d2504a298",
   "metadata": {},
   "outputs": [
    {
     "name": "stderr",
     "output_type": "stream",
     "text": [
      "[Stage 6:=============================>                             (1 + 1) / 2]\r"
     ]
    },
    {
     "name": "stdout",
     "output_type": "stream",
     "text": [
      "+-------+------------------------------+--------------------+----------------+--------------------+--------------------+------------------+---------------------------------+--------------------+--------------------+--------------------+--------------------+--------------------+--------------------+\n",
      "|summary|                  Course Title|              Rating|           Level|            Duration|            Schedule|            Review|              What you will learn|          Skill gain|             Modules|          Instructor|          Offered By|             Keyword|          Course Url|\n",
      "+-------+------------------------------+--------------------+----------------+--------------------+--------------------+------------------+---------------------------------+--------------------+--------------------+--------------------+--------------------+--------------------+--------------------+\n",
      "|  count|                          9834|                8305|            8460|                9455|                9033|              8273|                             5105|                9551|                9515|                9505|                9494|                9491|                9490|\n",
      "|   mean|                          null|   4.651532614026476|            null|                null|                null|              null|                             null|                null|                null|                 1.0|                 2.0|                null|                null|\n",
      "| stddev|                          null|  0.2406742119796753|            null|                null|                null|              null|                             null|                null|                null|                null|                null|                null|                null|\n",
      "|    min|                             \"| 'Access Management'| 'AI Platform']\"| 'Bash (Unix Shell)'| 'Blockchain and ...| 'Complex systems'|                Understand how...| 'Ejecución del p...| \"\"Hébergement d'...| \"\"API Security o...|      \"\"Waldstein\"\"'| \"\"20 Dynamique d...| \"\"Chapitre 6 - P...|\n",
      "|    max|현대 로봇공학, 강좌 6: 캡스...|                  []|              []|            one hour|                  []|                []|파이썬의 정의 및 파이썬이 자동...|https://www.cours...|https://www.cours...|https://www.cours...|https://www.cours...|https://www.cours...|https://www.cours...|\n",
      "+-------+------------------------------+--------------------+----------------+--------------------+--------------------+------------------+---------------------------------+--------------------+--------------------+--------------------+--------------------+--------------------+--------------------+\n",
      "\n"
     ]
    },
    {
     "name": "stderr",
     "output_type": "stream",
     "text": [
      "                                                                                \r"
     ]
    }
   ],
   "source": [
    "df.describe().show(5)"
   ]
  },
  {
   "cell_type": "markdown",
   "id": "0057184d-e4f8-4c31-ac11-39306ce9f1ca",
   "metadata": {},
   "source": [
    "## data Cleaning and preprocessing"
   ]
  },
  {
   "cell_type": "code",
   "execution_count": 29,
   "id": "d4555b2a-a2e0-497c-88da-2179ee5a86b2",
   "metadata": {},
   "outputs": [
    {
     "name": "stdout",
     "output_type": "stream",
     "text": [
      "+------------+------+-----+--------+--------+------+-------------------+----------+-------+----------+----------+-------+----------+\n",
      "|Course Title|Rating|Level|Duration|Schedule|Review|What you will learn|Skill gain|Modules|Instructor|Offered By|Keyword|Course Url|\n",
      "+------------+------+-----+--------+--------+------+-------------------+----------+-------+----------+----------+-------+----------+\n",
      "|           5|  1534| 1379|     384|     806|  1566|               4734|       288|    324|       334|       345|    348|       349|\n",
      "+------------+------+-----+--------+--------+------+-------------------+----------+-------+----------+----------+-------+----------+\n",
      "\n"
     ]
    }
   ],
   "source": [
    "null_counts = df.select([sum(col(c).isNull().cast(\"int\")).alias(c) for c in df.columns])\n",
    "null_counts.show()"
   ]
  },
  {
   "cell_type": "code",
   "execution_count": null,
   "id": "8324f3e5-c0f6-4ecd-a95f-0da4b981272b",
   "metadata": {},
   "outputs": [],
   "source": []
  }
 ],
 "metadata": {
  "kernelspec": {
   "display_name": "Python 3 (ipykernel)",
   "language": "python",
   "name": "python3"
  },
  "language_info": {
   "codemirror_mode": {
    "name": "ipython",
    "version": 3
   },
   "file_extension": ".py",
   "mimetype": "text/x-python",
   "name": "python",
   "nbconvert_exporter": "python",
   "pygments_lexer": "ipython3",
   "version": "3.10.9"
  }
 },
 "nbformat": 4,
 "nbformat_minor": 5
}
