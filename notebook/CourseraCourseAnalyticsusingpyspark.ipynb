{
 "cells": [
  {
   "cell_type": "code",
   "execution_count": 1,
   "id": "1984cafb-485b-476e-bc44-192061e0c2d8",
   "metadata": {},
   "outputs": [],
   "source": [
    "# import modules\n",
    "from pyspark.sql import SparkSession\n",
    "from pyspark.sql.functions import col, sum\n",
    "from pyspark.sql.functions import regexp_replace, lower\n",
    "from pyspark.sql.types import IntegerType"
   ]
  },
  {
   "cell_type": "code",
   "execution_count": 2,
   "id": "a99cc9d4-7c3d-4778-aeb1-d6797cdc2d7b",
   "metadata": {},
   "outputs": [
    {
     "name": "stderr",
     "output_type": "stream",
     "text": [
      "24/03/06 15:32:56 WARN Utils: Your hostname, paulet-HP-EliteBook-Folio-9470m resolves to a loopback address: 127.0.1.1; using 172.17.0.1 instead (on interface docker0)\n",
      "24/03/06 15:32:56 WARN Utils: Set SPARK_LOCAL_IP if you need to bind to another address\n",
      "Setting default log level to \"WARN\".\n",
      "To adjust logging level use sc.setLogLevel(newLevel). For SparkR, use setLogLevel(newLevel).\n",
      "24/03/06 15:33:06 WARN NativeCodeLoader: Unable to load native-hadoop library for your platform... using builtin-java classes where applicable\n"
     ]
    }
   ],
   "source": [
    "spark = SparkSession.builder.appName(\"CourseraCourseAnalytics\").getOrCreate()\n"
   ]
  },
  {
   "cell_type": "code",
   "execution_count": 3,
   "id": "689ee2b5-1967-4a03-bcac-41378d872749",
   "metadata": {},
   "outputs": [
    {
     "name": "stderr",
     "output_type": "stream",
     "text": [
      "                                                                                \r"
     ]
    }
   ],
   "source": [
    "# load dataset\n",
    "df = spark.read.csv(\"CourseraDataset-Unclean.csv\", header=True, inferSchema=True)"
   ]
  },
  {
   "cell_type": "code",
   "execution_count": 4,
   "id": "c28468ae-b1ad-4f39-975a-59775c5441a8",
   "metadata": {},
   "outputs": [
    {
     "name": "stdout",
     "output_type": "stream",
     "text": [
      "Displaying Dataframe schema\n",
      "root\n",
      " |-- Course Title: string (nullable = true)\n",
      " |-- Rating: string (nullable = true)\n",
      " |-- Level: string (nullable = true)\n",
      " |-- Duration: string (nullable = true)\n",
      " |-- Schedule: string (nullable = true)\n",
      " |-- Review: string (nullable = true)\n",
      " |-- What you will learn: string (nullable = true)\n",
      " |-- Skill gain: string (nullable = true)\n",
      " |-- Modules: string (nullable = true)\n",
      " |-- Instructor: string (nullable = true)\n",
      " |-- Offered By: string (nullable = true)\n",
      " |-- Keyword: string (nullable = true)\n",
      " |-- Course Url: string (nullable = true)\n",
      "\n"
     ]
    }
   ],
   "source": [
    "# show schema\n",
    "print('Displaying Dataframe schema')\n",
    "df.printSchema()"
   ]
  },
  {
   "cell_type": "code",
   "execution_count": 5,
   "id": "beadd453-a114-4bdf-a66e-3cf2761e646f",
   "metadata": {},
   "outputs": [
    {
     "name": "stderr",
     "output_type": "stream",
     "text": [
      "                                                                                \r"
     ]
    },
    {
     "name": "stdout",
     "output_type": "stream",
     "text": [
      "+--------------------+------+--------------+--------------------+-----------------+-------------+--------------------+--------------------+--------------------+--------------------+--------------------+-------------------+--------------------+\n",
      "|        Course Title|Rating|         Level|            Duration|         Schedule|       Review| What you will learn|          Skill gain|             Modules|          Instructor|          Offered By|            Keyword|          Course Url|\n",
      "+--------------------+------+--------------+--------------------+-----------------+-------------+--------------------+--------------------+--------------------+--------------------+--------------------+-------------------+--------------------+\n",
      "|   Fashion as Design|   4.8|Beginner level|20 hours (approxi...|Flexible schedule|2,813 reviews|                NULL|['Art History', '...|['Introduction', ...|['Anna Burckhardt...|['The Museum of M...|Arts and Humanities|https://www.cours...|\n",
      "|Modern American P...|   4.4|Beginner level|Approx. 34 hours ...|Flexible schedule|  100 reviews|                NULL|                  []|['Orientation', '...|     ['Cary Nelson']|['University of I...|Arts and Humanities|https://www.cours...|\n",
      "|Pixel Art for Vid...|   4.5|Beginner level|9 hours (approxim...|Flexible schedule|  227 reviews|                NULL|                  []|['Week 1: Introdu...|['Andrew Dennis',...|['Michigan State ...|Arts and Humanities|https://www.cours...|\n",
      "|Distribución digi...|  NULL|Beginner level|Approx. 8 hours t...|Flexible schedule|         NULL|                NULL|                  []|['Semana 1', 'Sem...|['Eduardo de la V...|['SAE Institute M...|Arts and Humanities|https://www.cours...|\n",
      "|The Blues: Unders...|   4.8|Beginner level|Approx. 11 hours ...|Flexible schedule|  582 reviews|Students will be ...|['Music', 'Chord'...|['Blues Progressi...|['Dariusz Terefen...|['University of R...|Arts and Humanities|https://www.cours...|\n",
      "+--------------------+------+--------------+--------------------+-----------------+-------------+--------------------+--------------------+--------------------+--------------------+--------------------+-------------------+--------------------+\n",
      "only showing top 5 rows\n",
      "\n"
     ]
    }
   ],
   "source": [
    "# display first few rows\n",
    "df.show(5)"
   ]
  },
  {
   "cell_type": "code",
   "execution_count": 6,
   "id": "71f35e7b-29e3-4a26-8248-672d2504a298",
   "metadata": {},
   "outputs": [
    {
     "name": "stderr",
     "output_type": "stream",
     "text": [
      "24/03/06 15:34:45 WARN SparkStringUtils: Truncated the string representation of a plan since it was too large. This behavior can be adjusted by setting 'spark.sql.debug.maxToStringFields'.\n",
      "[Stage 5:>                                                          (0 + 1) / 1]\r"
     ]
    },
    {
     "name": "stdout",
     "output_type": "stream",
     "text": [
      "+-------+------------------------------+--------------------+----------------+--------------------+--------------------+------------------+---------------------------------+--------------------+--------------------+--------------------+--------------------+--------------------+--------------------+\n",
      "|summary|                  Course Title|              Rating|           Level|            Duration|            Schedule|            Review|              What you will learn|          Skill gain|             Modules|          Instructor|          Offered By|             Keyword|          Course Url|\n",
      "+-------+------------------------------+--------------------+----------------+--------------------+--------------------+------------------+---------------------------------+--------------------+--------------------+--------------------+--------------------+--------------------+--------------------+\n",
      "|  count|                          9834|                8305|            8460|                9455|                9033|              8273|                             5105|                9551|                9515|                9505|                9494|                9491|                9490|\n",
      "|   mean|                          NULL|   4.651532614026476|            NULL|                NULL|                NULL|              NULL|                             NULL|                NULL|                NULL|                 1.0|                 2.0|                NULL|                NULL|\n",
      "| stddev|                          NULL|  0.2406742119796753|            NULL|                NULL|                NULL|              NULL|                             NULL|                NULL|                NULL|                NULL|                NULL|                NULL|                NULL|\n",
      "|    min|                             \"| 'Access Management'| 'AI Platform']\"| 'Bash (Unix Shell)'| 'Blockchain and ...| 'Complex systems'|                Understand how...| 'Ejecución del p...| \"\"Hébergement d'...| \"\"API Security o...|      \"\"Waldstein\"\"'| \"\"20 Dynamique d...| \"\"Chapitre 6 - P...|\n",
      "|    max|현대 로봇공학, 강좌 6: 캡스...|                  []|              []|            one hour|                  []|                []|파이썬의 정의 및 파이썬이 자동...|https://www.cours...|https://www.cours...|https://www.cours...|https://www.cours...|https://www.cours...|https://www.cours...|\n",
      "+-------+------------------------------+--------------------+----------------+--------------------+--------------------+------------------+---------------------------------+--------------------+--------------------+--------------------+--------------------+--------------------+--------------------+\n",
      "\n"
     ]
    },
    {
     "name": "stderr",
     "output_type": "stream",
     "text": [
      "                                                                                \r"
     ]
    }
   ],
   "source": [
    "df.describe().show(5)"
   ]
  },
  {
   "cell_type": "markdown",
   "id": "0057184d-e4f8-4c31-ac11-39306ce9f1ca",
   "metadata": {},
   "source": [
    "## data Cleaning and preprocessing"
   ]
  },
  {
   "cell_type": "code",
   "execution_count": 7,
   "id": "d4555b2a-a2e0-497c-88da-2179ee5a86b2",
   "metadata": {},
   "outputs": [
    {
     "name": "stderr",
     "output_type": "stream",
     "text": [
      "[Stage 6:=============================>                             (1 + 1) / 2]\r"
     ]
    },
    {
     "name": "stdout",
     "output_type": "stream",
     "text": [
      "+------------+------+-----+--------+--------+------+-------------------+----------+-------+----------+----------+-------+----------+\n",
      "|Course Title|Rating|Level|Duration|Schedule|Review|What you will learn|Skill gain|Modules|Instructor|Offered By|Keyword|Course Url|\n",
      "+------------+------+-----+--------+--------+------+-------------------+----------+-------+----------+----------+-------+----------+\n",
      "|           5|  1534| 1379|     384|     806|  1566|               4734|       288|    324|       334|       345|    348|       349|\n",
      "+------------+------+-----+--------+--------+------+-------------------+----------+-------+----------+----------+-------+----------+\n",
      "\n"
     ]
    },
    {
     "name": "stderr",
     "output_type": "stream",
     "text": [
      "                                                                                \r"
     ]
    }
   ],
   "source": [
    "null_counts = df.select([sum(col(c).isNull().cast(\"int\")).alias(c) for c in df.columns])\n",
    "null_counts.show()"
   ]
  },
  {
   "cell_type": "code",
   "execution_count": 7,
   "id": "8324f3e5-c0f6-4ecd-a95f-0da4b981272b",
   "metadata": {},
   "outputs": [],
   "source": [
    "# drop missing values \n",
    "df = df.na.drop()"
   ]
  },
  {
   "cell_type": "code",
   "execution_count": 8,
   "id": "4eb51ae1-8303-423d-98b5-8102b9ffd0b5",
   "metadata": {},
   "outputs": [],
   "source": [
    "# drop duplicates\n",
    "df = df.dropDuplicates()"
   ]
  },
  {
   "cell_type": "code",
   "execution_count": 9,
   "id": "a4dddb4f-4f42-44b6-8c53-3a97ddd4d575",
   "metadata": {},
   "outputs": [
    {
     "name": "stderr",
     "output_type": "stream",
     "text": [
      "[Stage 8:>                                                          (0 + 1) / 1]\r"
     ]
    },
    {
     "name": "stdout",
     "output_type": "stream",
     "text": [
      "+--------------------+\n",
      "|        Course Title|\n",
      "+--------------------+\n",
      "|lean management f...|\n",
      "|mathematics for e...|\n",
      "|artificial intell...|\n",
      "|   google profess...|\n",
      "|data science and ...|\n",
      "|data storage in m...|\n",
      "|ciberseguridad sp...|\n",
      "|      google prof...|\n",
      "|ai capstone proje...|\n",
      "|linux system prog...|\n",
      "|    learn javascript|\n",
      "|health after canc...|\n",
      "|population health...|\n",
      "|clinical trials o...|\n",
      "|children acquirin...|\n",
      "|operating systems...|\n",
      "|exploring data tr...|\n",
      "|cloud computing p...|\n",
      "|splunk search exp...|\n",
      "|essential linear ...|\n",
      "+--------------------+\n",
      "only showing top 20 rows\n",
      "\n"
     ]
    },
    {
     "name": "stderr",
     "output_type": "stream",
     "text": [
      "                                                                                \r"
     ]
    }
   ],
   "source": [
    "# standardize course title ext\n",
    "df = df.withColumn(\"Course Title\", lower(regexp_replace(df[\"Course Title\"], \"[^a-zA-Z0-9\\\\s]\", \"\")))\n",
    "df.select(\"Course Title\").show()"
   ]
  },
  {
   "cell_type": "code",
   "execution_count": 10,
   "id": "411916fe-4823-4adb-9209-ff451dae6bab",
   "metadata": {},
   "outputs": [
    {
     "name": "stderr",
     "output_type": "stream",
     "text": [
      "[Stage 11:>                                                         (0 + 1) / 1]\r"
     ]
    },
    {
     "name": "stdout",
     "output_type": "stream",
     "text": [
      "+------+\n",
      "|Review|\n",
      "+------+\n",
      "|    10|\n",
      "|   572|\n",
      "|   392|\n",
      "|   116|\n",
      "|    20|\n",
      "|   156|\n",
      "|   221|\n",
      "|  NULL|\n",
      "|   502|\n",
      "|    51|\n",
      "|    49|\n",
      "|    75|\n",
      "|    17|\n",
      "|   228|\n",
      "|   162|\n",
      "|    24|\n",
      "|   737|\n",
      "|    32|\n",
      "|    34|\n",
      "|   126|\n",
      "+------+\n",
      "only showing top 20 rows\n",
      "\n"
     ]
    },
    {
     "name": "stderr",
     "output_type": "stream",
     "text": [
      "                                                                                \r"
     ]
    }
   ],
   "source": [
    "# remove reviews from \"reviews\" and \n",
    "df = df.withColumn(\"Review\", regexp_replace(\"Review\", \"reviews\", '').cast(IntegerType()))\n",
    "df.select('Review').show()"
   ]
  },
  {
   "cell_type": "markdown",
   "id": "ee4f2f0d-3f66-440f-8cfb-503252d72d0e",
   "metadata": {},
   "source": [
    "### Data Analysis"
   ]
  },
  {
   "cell_type": "code",
   "execution_count": 11,
   "id": "df92a810-c051-4d33-8d19-fefc6fa4cf50",
   "metadata": {},
   "outputs": [
    {
     "name": "stderr",
     "output_type": "stream",
     "text": [
      "[Stage 12:=============================>                            (1 + 1) / 2]\r"
     ]
    },
    {
     "name": "stdout",
     "output_type": "stream",
     "text": [
      "+--------------------+------+------------------+--------------------+-----------------+------+-------------------------------+----------------------------+-----------------------------+--------------------+--------------------+--------------------+--------------------+\n",
      "|        Course Title|Rating|             Level|            Duration|         Schedule|Review|            What you will learn|                  Skill gain|                      Modules|          Instructor|          Offered By|             Keyword|          Course Url|\n",
      "+--------------------+------+------------------+--------------------+-----------------+------+-------------------------------+----------------------------+-----------------------------+--------------------+--------------------+--------------------+--------------------+\n",
      "|cyber security  t...|   5.0|    Beginner level|4 months at 5 hou...|Flexible schedule|    17|           Some of the issue...|        ['Computer Securi...|         ['Introduction to...|['Professor Peter...|['University of L...|    Computer Science|https://www.cours...|\n",
      "|practice exam for...|   5.0|    Advanced level|2 hours (approxim...|Flexible schedule|    15|           List CSM testing ...|        ['Scrum Master', ...|         ['Program and Cou...|['Daniel C. Yeoma...|  ['SkillUp EdTech']|Information Techn...|https://www.cours...|\n",
      "|certified busines...|   5.0|Intermediate level|4 months at 10 ho...|Flexible schedule|    12|           Overview and exam...|        ['Requirements Ma...|         ['Business Analys...|   ['Igor Arkhipov']|      ['Starweaver']|            Business|https://www.cours...|\n",
      "|o msico contempor...|   5.0|    Beginner level|1 months at 10 ho...|Flexible schedule|    22|           Teoria Musical: i...|                          []|         ['Desenvolvendo s...|['Loudon Stearns'...|         ['Berklee']| Arts and Humanities|https://www.cours...|\n",
      "|cyber security  t...|   5.0|    Beginner level|4 months at 5 hou...|Flexible schedule|    17|           Some of the issue...|        ['Computer Securi...|         ['Introduction to...|['Professor Peter...|['University of L...|Information Techn...|https://www.cours...|\n",
      "|musicians profess...|   5.0|Intermediate level|1 months at 10 ho...|Flexible schedule|     5|           How to articulate...|        ['Task Management...|         ['Strategies for ...|   ['Jeffrey Nytch']|['University of C...| Arts and Humanities|https://www.cours...|\n",
      "|networking fundam...|   5.0|    Beginner level|26 hours (approxi...|Flexible schedule|    12|           Learners will mas...|        ['Network Transmi...|         ['Network Theory'...|  ['Shadow Farrell']|['Akamai Technolo...|Information Techn...|https://www.cours...|\n",
      "|google it     pro...|   5.0|    Beginner level|3 months at 10 ho...|Flexible schedule|    12|엔트리 레벨 IT 직무에서 성공...|['디버깅', '고객 서비스',...|['기술 지원 기초', '컴퓨터...|['Google Career C...|          ['Google']|Information Techn...|https://www.cours...|\n",
      "|scrum master spec...|   5.0|    Beginner level|3 months at 3 hou...|Flexible schedule|    18|           Master the most u...|        ['Project Managem...|         ['Introduction to...|['Matt Versdahl',...|  ['SkillUp EdTech']|            Business|https://www.cours...|\n",
      "|global health cha...|   5.0|    Beginner level|3 months at 10 ho...|Flexible schedule|     6|           Identify obstacle...|        ['Health Policy',...|         ['Globalisation a...|['Christina Atchi...|['Imperial Colleg...|              Health|https://www.cours...|\n",
      "|introduction to s...|   5.0|    Beginner level|3 months at 5 hou...|Flexible schedule|    25|           Describe the fund...|        ['Risk Management...|         ['The Need for Sy...|['William Van Att...|['University of C...|            Business|https://www.cours...|\n",
      "|generative ai for...|   5.0|Intermediate level|1 months at 10 ho...|Flexible schedule|    14|           Identify real-wor...|        ['Software Engine...|         ['Generative AI: ...|['Rav Ahuja', 'An...|             ['IBM']|    Computer Science|https://www.cours...|\n",
      "|scrum master caps...|   5.0|    Advanced level|13 hours (approxi...|Flexible schedule|    15|           Apply Scrum skill...|        ['Scrum Master', ...|         ['Program and Cou...|['Daniel C. Yeoma...|  ['SkillUp EdTech']|Information Techn...|https://www.cours...|\n",
      "|google slides en ...|   5.0|    Beginner level|3 hours (approxim...|Flexible schedule|    26|           Crear, administra...|                          []|         ['Introducción al...|['Google Cloud Tr...|    ['Google Cloud']|Information Techn...|https://www.cours...|\n",
      "|diversity equity ...|   5.0|    Beginner level|1 months at 10 ho...|Flexible schedule|    10|           Examine the roots...|        ['Organization De...|         ['Foundations of ...|      ['Sam Mejias']|['Parsons School ...|            Business|https://www.cours...|\n",
      "|manajemen proyek ...|   5.0|    Beginner level|3 months at 10 ho...|Flexible schedule|   369|           Dapatkan pemahama...|        ['Manajemen Agile...|         ['Dasar-dasar Man...|['Google Career C...|          ['Google']|            Business|https://www.cours...|\n",
      "|road to the ciso ...|   5.0|Intermediate level|18 hours (approxi...|Flexible schedule|    17|           Identify the care...|        ['Risk Management...|         ['Introduction to...|['Michael Whitman...|['University Syst...|Information Techn...|https://www.cours...|\n",
      "|backend applicati...|   5.0|    Advanced level|18 hours (approxi...|Flexible schedule|    19|           Demonstrate profi...|        ['Django (Web Fra...|         ['Module 1: Getti...|['IBM Skills Netw...|             ['IBM']|Information Techn...|https://www.cours...|\n",
      "|keller williams r...|   5.0|    Beginner level|3 months at 10 ho...|Flexible schedule|     8|           Explore the essen...|        ['Contract Negoti...|         ['The Principles ...|['Molly de Mattos...| ['Keller Williams']|            Business|https://www.cours...|\n",
      "|c programming for...|   5.0|Intermediate level|1 months at 10 ho...|Flexible schedule|     5|           Understand how a ...|        ['Computer Archit...|         ['Exploring C ', ...|['Charles Russell...|['University of M...|    Computer Science|https://www.cours...|\n",
      "+--------------------+------+------------------+--------------------+-----------------+------+-------------------------------+----------------------------+-----------------------------+--------------------+--------------------+--------------------+--------------------+\n",
      "only showing top 20 rows\n",
      "\n"
     ]
    },
    {
     "name": "stderr",
     "output_type": "stream",
     "text": [
      "                                                                                \r"
     ]
    }
   ],
   "source": [
    "df.filter(col('Rating') > 4).show()"
   ]
  },
  {
   "cell_type": "code",
   "execution_count": 13,
   "id": "153a515b",
   "metadata": {},
   "outputs": [
    {
     "name": "stderr",
     "output_type": "stream",
     "text": [
      "[Stage 17:>                                                         (0 + 1) / 1]\r"
     ]
    },
    {
     "name": "stdout",
     "output_type": "stream",
     "text": [
      "+--------------------+-----------+\n",
      "|        Course Title|avg(Review)|\n",
      "+--------------------+-----------+\n",
      "|history of mental...|       99.0|\n",
      "|recommender syste...|      697.0|\n",
      "|scrum master cert...|      723.0|\n",
      "|transforming the ...|      390.0|\n",
      "|applied data scie...|       NULL|\n",
      "|handson internet ...|      132.0|\n",
      "|introduction to c...|      696.0|\n",
      "|managing google w...|      952.0|\n",
      "|gpt vision seeing...|       11.0|\n",
      "|sensor manufactur...|      255.0|\n",
      "|      what and wh...|      214.0|\n",
      "|transistor  field...|       73.0|\n",
      "|objetivos de desa...|      665.0|\n",
      "|songwriting writi...|      845.0|\n",
      "|point of care tes...|       16.0|\n",
      "|artificial intell...|      167.0|\n",
      "|hardware descript...|      546.0|\n",
      "|analitik data goo...|       NULL|\n",
      "|       digital twins|       55.0|\n",
      "|introduction to g...|       NULL|\n",
      "+--------------------+-----------+\n",
      "only showing top 20 rows\n",
      "\n"
     ]
    },
    {
     "name": "stderr",
     "output_type": "stream",
     "text": [
      "                                                                                \r"
     ]
    }
   ],
   "source": [
    "df.groupBy(\"Course Title\").avg(\"Review\").show()"
   ]
  },
  {
   "cell_type": "code",
   "execution_count": 15,
   "id": "99baca12",
   "metadata": {},
   "outputs": [
    {
     "name": "stderr",
     "output_type": "stream",
     "text": [
      "[Stage 24:=============================>                            (1 + 1) / 2]\r"
     ]
    },
    {
     "name": "stdout",
     "output_type": "stream",
     "text": [
      "+--------------------+--------------------+--------------------+--------------------+--------------------+------+--------------------+--------------------+--------------------+--------------------+--------------------+--------------------+--------------------+\n",
      "|        Course Title|              Rating|               Level|            Duration|            Schedule|Review| What you will learn|          Skill gain|             Modules|          Instructor|          Offered By|             Keyword|          Course Url|\n",
      "+--------------------+--------------------+--------------------+--------------------+--------------------+------+--------------------+--------------------+--------------------+--------------------+--------------------+--------------------+--------------------+\n",
      "|        data science|          'Big Data'| 'Python Programm...| 'Bash (Unix Shell)'|   'Database (DBMS)'|  NULL|               'SQL'| 'Web Application']\"|['Python and Pand...|['Alfredo Deza', ...| ['Duke University']|Information Techn...|https://www.cours...|\n",
      "|        data science|          'Big Data'| 'Python Programm...| 'Bash (Unix Shell)'|   'Database (DBMS)'|  NULL|               'SQL'| 'Web Application']\"|['Python and Pand...|['Alfredo Deza', ...| ['Duke University']|    Computer Science|https://www.cours...|\n",
      "|        data science|          'Big Data'| 'Python Programm...| 'Bash (Unix Shell)'|   'Database (DBMS)'|  NULL|               'SQL'| 'Web Application']\"|['Python and Pand...|['Alfredo Deza', ...| ['Duke University']|      Math and Logic|https://www.cours...|\n",
      "|        data science|          'Big Data'| 'Python Programm...| 'Bash (Unix Shell)'|   'Database (DBMS)'|  NULL|               'SQL'| 'Web Application']\"|['Python and Pand...|['Alfredo Deza', ...| ['Duke University']|         DataScience|https://www.cours...|\n",
      "|     version control|            'Github'| 'Bash (Unix Shell)'|   'Web Development'|             'Linux'|  NULL|     'Accessibility'| 'Front-End Web D...| 'User Experience...| 'React (Javascri...| 'Application dev...|             'React'| 'Mobile Developm...|\n",
      "|      hoja de clculo| 'Limpieza de datos'| 'Integridad de d...|               'SQL'| 'Determinación d...|  NULL|  'Tableau Software'|      'presentación'| 'análisis de datos'|        'R Markdown'| 'Programación en R'|           'Rstudio'| 'Toma de decisio...|\n",
      "|estatuto del proy...| 'Redacción de ne...| 'Pensamiento est...| 'Gestión de proy...| 'Gestión de los ...|  NULL| 'Gestión de cali...| 'Ejecución del p...| 'Estimación de t...|     'Adquisiciones'| 'Planificación d...| 'desarrollo prof...| 'gestión de camb...|\n",
      "|software architec...|                 3.1|      Advanced level|2 months at 10 ho...|   Flexible schedule|    40|Practice software...|['Software Engine...|['Fundamentals of...|['Mike Barinek', ...|['University of C...|    Computer Science|https://www.cours...|\n",
      "|software architec...|                 3.1|      Advanced level|2 months at 10 ho...|   Flexible schedule|    40|Practice software...|['Software Engine...|['Fundamentals of...|['Mike Barinek', ...|['University of C...|         DataScience|https://www.cours...|\n",
      "|selenium webdrive...|                 3.1|      Beginner level|Approx. 7 hours t...|   Flexible schedule|    15|Setting up the En...|['Unit Testing', ...|['Getting Started...|['Whizlabs Instru...|        ['Whizlabs']|    Computer Science|https://www.cours...|\n",
      "|introduction to h...|                 3.2|      Beginner level|Approx. 14 hours ...|   Flexible schedule|    87|Navigate a typica...|['Simple Linux Ut...|['High-Performanc...|['Thomas Hauser '...|['University of C...|    Computer Science|https://www.cours...|\n",
      "|introduction to h...|                 3.2|      Beginner level|Approx. 14 hours ...|   Flexible schedule|    87|Navigate a typica...|['Simple Linux Ut...|['High-Performanc...|['Thomas Hauser '...|['University of C...|         DataScience|https://www.cours...|\n",
      "|econometrics for ...|                 3.2|  Intermediate level|3 months at 10 ho...|   Flexible schedule|    30|The Ordinary Leas...|['Calculate and p...|['The Classical L...|['Dr Leone Leonida']|['Queen Mary Univ...|         DataScience|https://www.cours...|\n",
      "|econometrics for ...|                 3.2|  Intermediate level|3 months at 10 ho...|   Flexible schedule|    30|The Ordinary Leas...|['Calculate and p...|['The Classical L...|['Dr Leone Leonida']|['Queen Mary Univ...|     Social Sciences|https://www.cours...|\n",
      "|introduction to m...|                 3.3|  Intermediate level|39 hours (approxi...|   Flexible schedule|    43|Use modern machin...|['Hyperparameter'...|['Introduction to...|      ['Geena Kim ']|['University of C...|    Computer Science|https://www.cours...|\n",
      "|bayesian inferenc...|                 3.3|      Beginner level|14 hours (approxi...|   Flexible schedule|    20|1. Markov Chain M...|['Bayesian', 'Sci...|['Topics in Model...|['Dr. Srijith Raj...|      ['Databricks']|      Math and Logic|https://www.cours...|\n",
      "|software architec...|                 3.3|      Advanced level|25 hours (approxi...|   Flexible schedule|    10|Compare, measure,...|['Software Engine...|['Predictive Mode...|['Mike Barinek', ...|['University of C...|    Computer Science|https://www.cours...|\n",
      "|data wrangling an...|                 3.3|  Intermediate level|15 hours (approxi...|   Flexible schedule|   910|Validate and clea...|['Query String', ...|['Data of Unknown...|['Katrina Glaeser...|['University of C...|         DataScience|https://www.cours...|\n",
      "|fundamentals of s...|                 3.3|      Advanced level|19 hours (approxi...|   Flexible schedule|    40|Practice software...|['Software Engine...|['Software Engine...|['Mike Barinek', ...|['University of C...|         DataScience|https://www.cours...|\n",
      "|fundamentals of s...|                 3.3|      Advanced level|19 hours (approxi...|   Flexible schedule|    40|Practice software...|['Software Engine...|['Software Engine...|['Mike Barinek', ...|['University of C...|    Computer Science|https://www.cours...|\n",
      "+--------------------+--------------------+--------------------+--------------------+--------------------+------+--------------------+--------------------+--------------------+--------------------+--------------------+--------------------+--------------------+\n",
      "only showing top 20 rows\n",
      "\n"
     ]
    },
    {
     "name": "stderr",
     "output_type": "stream",
     "text": [
      "                                                                                \r"
     ]
    }
   ],
   "source": [
    "df.orderBy(\"Rating\", ascending=True).show()"
   ]
  },
  {
   "cell_type": "markdown",
   "id": "2961d307",
   "metadata": {},
   "source": [
    "Partitioning allows you to control the distribution of data across partitions for efficient processing. It ensures that related data is stored together, reducing shuffle operations during transformations."
   ]
  },
  {
   "cell_type": "code",
   "execution_count": 16,
   "id": "fe8f9955",
   "metadata": {},
   "outputs": [
    {
     "name": "stderr",
     "output_type": "stream",
     "text": [
      "[Stage 29:>                                                         (0 + 1) / 1]\r"
     ]
    },
    {
     "name": "stdout",
     "output_type": "stream",
     "text": [
      "Number of partitions: 1\n"
     ]
    }
   ],
   "source": [
    "df_repartitioned = df.repartition(\"Course Title\")\n",
    "num_partitions = df_repartitioned.rdd.getNumPartitions()\n",
    "print(\"Number of partitions:\", num_partitions)\n"
   ]
  },
  {
   "cell_type": "markdown",
   "id": "e288726d",
   "metadata": {},
   "source": [
    "Caching allows you to persist DataFrame in memory or disk for faster access during iterative or repeated computations. It is useful when you need to reuse a DataFrame across multiple actions or transformations."
   ]
  },
  {
   "cell_type": "code",
   "execution_count": 24,
   "id": "6f5ec3b8",
   "metadata": {},
   "outputs": [
    {
     "data": {
      "text/plain": [
       "DataFrame[Course Title: string, Rating: string, Level: string, Duration: string, Schedule: string, Review: int, What you will learn: string, Skill gain: string, Modules: string, Instructor: string, Offered By: string, Keyword: string, Course Url: string]"
      ]
     },
     "execution_count": 24,
     "metadata": {},
     "output_type": "execute_result"
    }
   ],
   "source": [
    "df.cache()"
   ]
  },
  {
   "cell_type": "code",
   "execution_count": 26,
   "id": "6b4e8af6",
   "metadata": {},
   "outputs": [
    {
     "data": {
      "text/plain": [
       "DataFrame[Course Title: string, Rating: string, Level: string, Duration: string, Schedule: string, Review: int, What you will learn: string, Skill gain: string, Modules: string, Instructor: string, Offered By: string, Keyword: string, Course Url: string]"
      ]
     },
     "execution_count": 26,
     "metadata": {},
     "output_type": "execute_result"
    }
   ],
   "source": [
    "df.unpersist() #unperist from cache"
   ]
  },
  {
   "cell_type": "code",
   "execution_count": null,
   "id": "20b65b58",
   "metadata": {},
   "outputs": [],
   "source": []
  }
 ],
 "metadata": {
  "kernelspec": {
   "display_name": "Python 3 (ipykernel)",
   "language": "python",
   "name": "python3"
  },
  "language_info": {
   "codemirror_mode": {
    "name": "ipython",
    "version": 3
   },
   "file_extension": ".py",
   "mimetype": "text/x-python",
   "name": "python",
   "nbconvert_exporter": "python",
   "pygments_lexer": "ipython3",
   "version": "3.10.9"
  }
 },
 "nbformat": 4,
 "nbformat_minor": 5
}
